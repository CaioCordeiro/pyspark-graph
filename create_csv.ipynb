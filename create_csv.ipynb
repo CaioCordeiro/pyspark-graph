{
 "cells": [
  {
   "cell_type": "code",
   "execution_count": 1,
   "metadata": {},
   "outputs": [],
   "source": [
    "from pyspark import SparkConf\n",
    "from pyspark.context import SparkContext\n",
    "from pyspark.sql.session import SparkSession\n",
    "import pandas as pd\n",
    "from pyspark.sql import SQLContext\n",
    "conf = SparkConf().setAppName('appName').setMaster('local')\n",
    "sc = SparkContext.getOrCreate(conf)\n",
    "spark = SparkSession(sc)\n",
    "\n",
    "sqlContext = SQLContext(sc)"
   ]
  },
  {
   "cell_type": "code",
   "execution_count": 2,
   "metadata": {},
   "outputs": [
    {
     "name": "stdout",
     "output_type": "stream",
     "text": [
      "+---+--------------------+---------+----------+\n",
      "| id|                nome| latitude| longitude|\n",
      "+---+--------------------+---------+----------+\n",
      "|  1|Albergue Piratas ...|-8.107019|-34.889533|\n",
      "|  2|   Boa Viagem Hostel|-8.110046|-34.894322|\n",
      "|  3|Imperial Suítes Flat|-8.117141|-34.901665|\n",
      "|  4|MercureAptMetrópolis|-8.064499|-34.894286|\n",
      "|  5|MercureApt Navega...|-8.118182|-34.894833|\n",
      "|  6|TulipInn Recife Flat|-8.139897|-34.905175|\n",
      "|  7|Park Way Home Ser...|-8.123057|-34.901298|\n",
      "|  8|       Atlante Plaza|-8.136259| -34.90194|\n",
      "|  9|Best Western Mani...|-8.098362|-34.885681|\n",
      "| 10|Boa Viagem Praia ...|-8.137725| -34.90228|\n",
      "+---+--------------------+---------+----------+\n",
      "\n"
     ]
    }
   ],
   "source": [
    "df = spark.read.format(\"csv\").option(\"header\", \"true\").load(\"hoteis.csv\")\n",
    "columns_to_drop = ['endereco', 'telefone','site']\n",
    "df = df.drop(*columns_to_drop)\n",
    "df = df.limit(10)\n",
    "df = df.selectExpr(\"_id as id\", \"nome as nome\",\"latitude as latitude\",\"longitude as longitude\")\n",
    "df.show()\n",
    "\n",
    "#df.repartition(1).write.format('com.databricks.spark.csv').save(\"./vertex.csv\",header = 'true')\n",
    "df.toPandas().to_csv(\"vertex.csv\")\n"
   ]
  },
  {
   "cell_type": "code",
   "execution_count": 3,
   "metadata": {},
   "outputs": [
    {
     "name": "stdout",
     "output_type": "stream",
     "text": [
      "+---+--------------------+---------+----------+\n",
      "|_id|                nome| latitude| longitude|\n",
      "+---+--------------------+---------+----------+\n",
      "|  1|Albergue Piratas ...|-8.107019|-34.889533|\n",
      "|  2|   Boa Viagem Hostel|-8.110046|-34.894322|\n",
      "|  3|Imperial Suítes Flat|-8.117141|-34.901665|\n",
      "|  4|MercureAptMetrópolis|-8.064499|-34.894286|\n",
      "|  5|MercureApt Navega...|-8.118182|-34.894833|\n",
      "|  6|TulipInn Recife Flat|-8.139897|-34.905175|\n",
      "|  7|Park Way Home Ser...|-8.123057|-34.901298|\n",
      "|  8|       Atlante Plaza|-8.136259| -34.90194|\n",
      "|  9|Best Western Mani...|-8.098362|-34.885681|\n",
      "| 10|Boa Viagem Praia ...|-8.137725| -34.90228|\n",
      "+---+--------------------+---------+----------+\n",
      "\n"
     ]
    }
   ],
   "source": [
    "df = df.selectExpr(\"id as _id\", \"nome as nome\",\"latitude as latitude\",\"longitude as longitude\")\n",
    "df.show()"
   ]
  },
  {
   "cell_type": "code",
   "execution_count": 4,
   "metadata": {},
   "outputs": [],
   "source": [
    "from math import radians, cos, sin, asin, sqrt \n",
    "def distance(obj1, obj2): \n",
    "\n",
    "    # The math module contains a function named \n",
    "    # radians which converts from degrees to radians. \n",
    "    lon1 = radians(float(obj1[0]['longitude'])) \n",
    "    lon2 = radians(float(obj2[0]['longitude'])) \n",
    "    lat1 = radians(float(obj1[0][\"latitude\"])) \n",
    "    lat2 = radians(float(obj2[0][\"latitude\"])) \n",
    "       \n",
    "    # Haversine formula  \n",
    "    dlon = lon2 - lon1  \n",
    "    dlat = lat2 - lat1 \n",
    "    a = sin(dlat / 2)**2 + cos(lat1) * cos(lat2) * sin(dlon / 2)**2\n",
    "  \n",
    "    c = 2 * asin(sqrt(a))  \n",
    "     \n",
    "    # Radius of earth in kilometers. Use 3956 for miles \n",
    "    r = 6371\n",
    "    #print(c*r)\n",
    "    # calculate the result \n",
    "    return(c * r) \n",
    "      \n",
    "    "
   ]
  },
  {
   "cell_type": "code",
   "execution_count": 5,
   "metadata": {},
   "outputs": [
    {
     "data": {
      "text/plain": [
       "[Row(_id='1', nome='Albergue Piratas da Praia Hostel', latitude='-8.107019', longitude='-34.889533')]"
      ]
     },
     "execution_count": 5,
     "metadata": {},
     "output_type": "execute_result"
    }
   ],
   "source": [
    "x = df.filter(df._id == 1)\n",
    "x.head(3)"
   ]
  },
  {
   "cell_type": "code",
   "execution_count": 6,
   "metadata": {},
   "outputs": [
    {
     "data": {
      "text/plain": [
       "[(1, 2, 0.6254749117398578),\n",
       " (1, 3, 1.7465376484835686),\n",
       " (1, 4, 4.7568748661268145),\n",
       " (2, 6, 3.527731569193673),\n",
       " (2, 7, 1.6379304279209408),\n",
       " (2, 4, 5.064596874547301),\n",
       " (3, 8, 2.1260401284606285),\n",
       " (3, 9, 2.730638602961474),\n",
       " (3, 10, 2.2898373199366535),\n",
       " (4, 5, 5.969580979785641),\n",
       " (4, 6, 8.469136928157475),\n",
       " (4, 7, 6.556949812805451),\n",
       " (5, 8, 2.156946277340633),\n",
       " (5, 9, 2.4232465350552195),\n",
       " (5, 10, 2.322558549974316),\n",
       " (6, 3, 2.559680473117969),\n",
       " (6, 5, 2.669511153829627),\n",
       " (6, 7, 1.9205395279301125),\n",
       " (7, 1, 2.2040016626020473),\n",
       " (7, 8, 1.4696954686115875),\n",
       " (7, 9, 3.2397228824032913),\n",
       " (8, 1, 3.5265430857778046),\n",
       " (8, 2, 3.0329862632132927),\n",
       " (8, 4, 8.023712282556527),\n",
       " (9, 1, 1.0518756739455306),\n",
       " (9, 2, 1.610211711494209),\n",
       " (9, 4, 3.882734236221232),\n",
       " (10, 2, 3.2000040115743023),\n",
       " (10, 1, 3.69143854402362),\n",
       " (10, 4, 8.189777770249627)]"
      ]
     },
     "execution_count": 6,
     "metadata": {},
     "output_type": "execute_result"
    }
   ],
   "source": [
    "edge_data= []\n",
    "edge_data.append((1, 2, distance(df.filter(df._id == 1).head(1),df.filter(df._id == 2).head(1))))\n",
    "edge_data.append((1, 3, distance(df.filter(df._id == 1).head(1),df.filter(df._id == 3).head(1))))\n",
    "edge_data.append((1, 4, distance(df.filter(df._id == 1).head(1),df.filter(df._id == 4).head(1))))\n",
    "edge_data.append((2, 6, distance(df.filter(df._id ==2).head(1),df.filter(df._id ==6).head(1))))\n",
    "edge_data.append((2, 7, distance(df.filter(df._id ==2).head(1),df.filter(df._id ==7).head(1))))\n",
    "edge_data.append((2, 4, distance(df.filter(df._id ==2).head(1),df.filter(df._id ==4).head(1))))\n",
    "edge_data.append((3, 8, distance(df.filter(df._id ==3).head(1),df.filter(df._id ==8).head(1))))\n",
    "edge_data.append((3, 9, distance(df.filter(df._id ==3).head(1),df.filter(df._id ==9).head(1))))\n",
    "edge_data.append((3, 10, distance(df.filter(df._id ==3).head(1),df.filter(df._id ==10).head(1))))\n",
    "edge_data.append((4, 5, distance(df.filter(df._id ==4).head(1),df.filter(df._id ==5).head(1))))\n",
    "edge_data.append((4, 6, distance(df.filter(df._id ==4).head(1),df.filter(df._id ==6).head(1))))\n",
    "edge_data.append((4, 7, distance(df.filter(df._id ==4).head(1),df.filter(df._id ==7).head(1))))\n",
    "edge_data.append((5, 8, distance(df.filter(df._id ==5).head(1),df.filter(df._id ==8).head(1))))\n",
    "edge_data.append((5, 9, distance(df.filter(df._id ==5).head(1),df.filter(df._id ==9).head(1))))\n",
    "edge_data.append((5, 10, distance(df.filter(df._id ==5).head(1),df.filter(df._id ==10).head(1))))\n",
    "edge_data.append((6, 3, distance(df.filter(df._id ==6).head(1),df.filter(df._id ==3).head(1))))\n",
    "edge_data.append((6, 5, distance(df.filter(df._id ==6).head(1),df.filter(df._id ==5).head(1))))\n",
    "edge_data.append((6, 7, distance(df.filter(df._id ==6).head(1),df.filter(df._id ==7).head(1))))\n",
    "edge_data.append((7, 1, distance(df.filter(df._id ==7).head(1),df.filter(df._id ==1).head(1))))\n",
    "edge_data.append((7, 8, distance(df.filter(df._id ==7).head(1),df.filter(df._id ==8).head(1))))\n",
    "edge_data.append((7, 9, distance(df.filter(df._id ==7).head(1),df.filter(df._id ==9).head(1))))\n",
    "edge_data.append((8, 1, distance(df.filter(df._id ==8).head(1),df.filter(df._id ==1).head(1))))\n",
    "edge_data.append((8, 2, distance(df.filter(df._id ==8).head(1),df.filter(df._id ==2).head(1))))\n",
    "edge_data.append((8, 4, distance(df.filter(df._id ==8).head(1),df.filter(df._id ==4).head(1))))\n",
    "edge_data.append((9, 1, distance(df.filter(df._id ==9).head(1),df.filter(df._id ==1).head(1))))\n",
    "edge_data.append((9, 2, distance(df.filter(df._id ==9).head(1),df.filter(df._id ==2).head(1))))\n",
    "edge_data.append((9, 4, distance(df.filter(df._id ==9).head(1),df.filter(df._id ==4).head(1))))\n",
    "edge_data.append((10, 2, distance(df.filter(df._id ==10).head(1),df.filter(df._id ==2).head(1))))\n",
    "edge_data.append((10, 1, distance(df.filter(df._id ==10).head(1),df.filter(df._id ==1).head(1))))\n",
    "edge_data.append((10, 4, distance(df.filter(df._id ==10).head(1),df.filter(df._id ==4).head(1))))\n",
    "edge_data\n"
   ]
  },
  {
   "cell_type": "code",
   "execution_count": 7,
   "metadata": {},
   "outputs": [
    {
     "name": "stdout",
     "output_type": "stream",
     "text": [
      "+-------+------------------+-----------------+------------------+\n",
      "|summary|               src|              dst|      relationship|\n",
      "+-------+------------------+-----------------+------------------+\n",
      "|  count|                30|               30|                30|\n",
      "|   mean|               5.5|5.066666666666666| 3.422550539334681|\n",
      "| stddev|2.9213837061606083|2.947042156343266|2.1134692156607646|\n",
      "|    min|                 1|                1|0.6254749117398578|\n",
      "|    max|                10|               10| 8.469136928157475|\n",
      "+-------+------------------+-----------------+------------------+\n",
      "\n"
     ]
    }
   ],
   "source": [
    "edge = sqlContext.createDataFrame(edge_data).toDF(\"src\", \"dst\", \"relationship\")\n",
    "edge.describe().show()\n",
    "\n",
    "edge.toPandas().to_csv(\"edges.csv\")"
   ]
  },
  {
   "cell_type": "code",
   "execution_count": null,
   "metadata": {},
   "outputs": [],
   "source": []
  },
  {
   "cell_type": "code",
   "execution_count": null,
   "metadata": {},
   "outputs": [],
   "source": []
  },
  {
   "cell_type": "code",
   "execution_count": null,
   "metadata": {},
   "outputs": [],
   "source": []
  },
  {
   "cell_type": "code",
   "execution_count": null,
   "metadata": {},
   "outputs": [],
   "source": []
  }
 ],
 "metadata": {
  "kernelspec": {
   "display_name": "Python 3",
   "language": "python",
   "name": "python3"
  },
  "language_info": {
   "codemirror_mode": {
    "name": "ipython",
    "version": 3
   },
   "file_extension": ".py",
   "mimetype": "text/x-python",
   "name": "python",
   "nbconvert_exporter": "python",
   "pygments_lexer": "ipython3",
   "version": "3.7.6"
  }
 },
 "nbformat": 4,
 "nbformat_minor": 4
}
