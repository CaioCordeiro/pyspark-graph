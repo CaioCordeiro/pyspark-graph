{
 "cells": [
  {
   "cell_type": "markdown",
   "metadata": {},
   "source": [
    "### Atividade 1"
   ]
  },
  {
   "cell_type": "code",
   "execution_count": 1,
   "metadata": {},
   "outputs": [],
   "source": [
    "from pyspark import SparkConf\n",
    "from pyspark.context import SparkContext\n",
    "from pyspark.sql.session import SparkSession\n",
    "import pandas as pd\n",
    "from pyspark.sql import SQLContext\n",
    "conf = SparkConf().setAppName('appName').setMaster('local')\n",
    "sc = SparkContext.getOrCreate(conf)\n",
    "spark = SparkSession(sc)\n",
    "\n",
    "sqlContext = SQLContext(sc)"
   ]
  },
  {
   "cell_type": "code",
   "execution_count": 2,
   "metadata": {},
   "outputs": [],
   "source": [
    "from graphframes import *\n",
    "nodes = spark.read.csv('vertex.csv', header=True)\n",
    "rels = spark.read.csv('edges.csv', header=True)\n",
    "nodes = nodes.drop(\"_c0\")\n",
    "rels = rels.drop(\"_c0\")\n",
    "g = GraphFrame(nodes, rels)\n",
    "\n"
   ]
  },
  {
   "cell_type": "code",
   "execution_count": 3,
   "metadata": {},
   "outputs": [
    {
     "name": "stdout",
     "output_type": "stream",
     "text": [
      "+---+--------------------+---------+----------+\n",
      "| id|                nome| latitude| longitude|\n",
      "+---+--------------------+---------+----------+\n",
      "|  1|Albergue Piratas ...|-8.107019|-34.889533|\n",
      "|  2|   Boa Viagem Hostel|-8.110046|-34.894322|\n",
      "|  3|Imperial Suítes Flat|-8.117141|-34.901665|\n",
      "|  4|MercureAptMetrópolis|-8.064499|-34.894286|\n",
      "|  5|MercureApt Navega...|-8.118182|-34.894833|\n",
      "|  6|TulipInn Recife Flat|-8.139897|-34.905175|\n",
      "|  7|Park Way Home Ser...|-8.123057|-34.901298|\n",
      "|  8|       Atlante Plaza|-8.136259| -34.90194|\n",
      "|  9|Best Western Mani...|-8.098362|-34.885681|\n",
      "| 10|Boa Viagem Praia ...|-8.137725| -34.90228|\n",
      "+---+--------------------+---------+----------+\n",
      "\n"
     ]
    }
   ],
   "source": [
    "g.vertices.show()"
   ]
  },
  {
   "cell_type": "code",
   "execution_count": 4,
   "metadata": {},
   "outputs": [
    {
     "name": "stdout",
     "output_type": "stream",
     "text": [
      "+---+---+------------------+\n",
      "|src|dst|      relationship|\n",
      "+---+---+------------------+\n",
      "|  1|  2|0.6254749117398578|\n",
      "|  1|  3|1.7465376484835686|\n",
      "|  1|  4|4.7568748661268145|\n",
      "|  2|  6| 3.527731569193673|\n",
      "|  2|  7|1.6379304279209408|\n",
      "|  2|  4| 5.064596874547301|\n",
      "|  3|  8|2.1260401284606285|\n",
      "|  3|  9| 2.730638602961474|\n",
      "|  3| 10|2.2898373199366535|\n",
      "|  4|  5| 5.969580979785641|\n",
      "|  4|  6| 8.469136928157475|\n",
      "|  4|  7| 6.556949812805451|\n",
      "|  5|  8| 2.156946277340633|\n",
      "|  5|  9|2.4232465350552195|\n",
      "|  5| 10| 2.322558549974316|\n",
      "|  6|  3| 2.559680473117969|\n",
      "|  6|  5| 2.669511153829627|\n",
      "|  6|  7|1.9205395279301125|\n",
      "|  7|  1|2.2040016626020473|\n",
      "|  7|  8|1.4696954686115875|\n",
      "+---+---+------------------+\n",
      "only showing top 20 rows\n",
      "\n"
     ]
    }
   ],
   "source": [
    "g.edges.show()"
   ]
  },
  {
   "cell_type": "code",
   "execution_count": 5,
   "metadata": {},
   "outputs": [
    {
     "name": "stdout",
     "output_type": "stream",
     "text": [
      "+--------------------+--------------------+--------------------+--------------------+--------------------+\n",
      "|                from|                  e0|                  v1|                  e1|                  to|\n",
      "+--------------------+--------------------+--------------------+--------------------+--------------------+\n",
      "|[1, Albergue Pira...|[1, 3, 1.74653764...|[3, Imperial Suít...|[3, 8, 2.12604012...|[8, Atlante Plaza...|\n",
      "|[1, Albergue Pira...|[1, 3, 1.74653764...|[3, Imperial Suít...|[3, 9, 2.73063860...|[9, Best Western ...|\n",
      "|[1, Albergue Pira...|[1, 3, 1.74653764...|[3, Imperial Suít...|[3, 10, 2.2898373...|[10, Boa Viagem P...|\n",
      "|[1, Albergue Pira...|[1, 4, 4.75687486...|[4, MercureAptMet...|[4, 5, 5.96958097...|[5, MercureApt Na...|\n",
      "|[1, Albergue Pira...|[1, 4, 4.75687486...|[4, MercureAptMet...|[4, 6, 8.46913692...|[6, TulipInn Reci...|\n",
      "|[1, Albergue Pira...|[1, 4, 4.75687486...|[4, MercureAptMet...|[4, 7, 6.55694981...|[7, Park Way Home...|\n",
      "|[1, Albergue Pira...|[1, 2, 0.62547491...|[2, Boa Viagem Ho...|[2, 6, 3.52773156...|[6, TulipInn Reci...|\n",
      "|[1, Albergue Pira...|[1, 2, 0.62547491...|[2, Boa Viagem Ho...|[2, 7, 1.63793042...|[7, Park Way Home...|\n",
      "+--------------------+--------------------+--------------------+--------------------+--------------------+\n",
      "\n"
     ]
    }
   ],
   "source": [
    "paths = g.bfs(\" id = 1 \",\" id > 4\")\n",
    "paths.show()"
   ]
  },
  {
   "cell_type": "code",
   "execution_count": 6,
   "metadata": {},
   "outputs": [
    {
     "name": "stdout",
     "output_type": "stream",
     "text": [
      "+--------------------+--------------------+--------------------+\n",
      "|                from|                  e0|                  to|\n",
      "+--------------------+--------------------+--------------------+\n",
      "|[3, Imperial Suít...|[3, 8, 2.12604012...|[8, Atlante Plaza...|\n",
      "|[3, Imperial Suít...|[3, 9, 2.73063860...|[9, Best Western ...|\n",
      "|[3, Imperial Suít...|[3, 10, 2.2898373...|[10, Boa Viagem P...|\n",
      "+--------------------+--------------------+--------------------+\n",
      "\n"
     ]
    }
   ],
   "source": [
    "\n",
    "paths = g.bfs(\" id = 3 \",\" id > 4\")\n",
    "paths.show()"
   ]
  },
  {
   "cell_type": "code",
   "execution_count": 7,
   "metadata": {},
   "outputs": [
    {
     "name": "stdout",
     "output_type": "stream",
     "text": [
      "+--------------------+--------------------+--------------------+--------------------+--------------------+\n",
      "|                from|                  e0|                  v1|                  e1|                  to|\n",
      "+--------------------+--------------------+--------------------+--------------------+--------------------+\n",
      "|[1, Albergue Pira...|[1, 3, 1.74653764...|[3, Imperial Suít...|[3, 8, 2.12604012...|[8, Atlante Plaza...|\n",
      "|[1, Albergue Pira...|[1, 3, 1.74653764...|[3, Imperial Suít...|[3, 9, 2.73063860...|[9, Best Western ...|\n",
      "|[1, Albergue Pira...|[1, 3, 1.74653764...|[3, Imperial Suít...|[3, 10, 2.2898373...|[10, Boa Viagem P...|\n",
      "|[1, Albergue Pira...|[1, 4, 4.75687486...|[4, MercureAptMet...|[4, 7, 6.55694981...|[7, Park Way Home...|\n",
      "|[1, Albergue Pira...|[1, 2, 0.62547491...|[2, Boa Viagem Ho...|[2, 7, 1.63793042...|[7, Park Way Home...|\n",
      "+--------------------+--------------------+--------------------+--------------------+--------------------+\n",
      "\n"
     ]
    }
   ],
   "source": [
    "paths = g.bfs(\" id = 1 \",\" id >6 \", maxPathLength=2)\n",
    "paths.show()"
   ]
  },
  {
   "cell_type": "code",
   "execution_count": 8,
   "metadata": {},
   "outputs": [
    {
     "name": "stdout",
     "output_type": "stream",
     "text": [
      "+--------------------+--------------------+--------------------+--------------------+--------------------+\n",
      "|                from|                  e0|                  v1|                  e1|                  to|\n",
      "+--------------------+--------------------+--------------------+--------------------+--------------------+\n",
      "|[2, Boa Viagem Ho...|[2, 7, 1.63793042...|[7, Park Way Home...|[7, 8, 1.46969546...|[8, Atlante Plaza...|\n",
      "|[2, Boa Viagem Ho...|[2, 7, 1.63793042...|[7, Park Way Home...|[7, 9, 3.23972288...|[9, Best Western ...|\n",
      "+--------------------+--------------------+--------------------+--------------------+--------------------+\n",
      "\n"
     ]
    }
   ],
   "source": [
    "paths = g.bfs(\" id = 2 \",\" id >7 \", maxPathLength=2)\n",
    "paths.show()"
   ]
  },
  {
   "cell_type": "code",
   "execution_count": 9,
   "metadata": {},
   "outputs": [
    {
     "name": "stdout",
     "output_type": "stream",
     "text": [
      "+--------------------+--------------------+--------------------+--------------------+--------------------+\n",
      "|                from|                  e0|                  v1|                  e1|                  to|\n",
      "+--------------------+--------------------+--------------------+--------------------+--------------------+\n",
      "|[2, Boa Viagem Ho...|[2, 7, 1.63793042...|[7, Park Way Home...|[7, 9, 3.23972288...|[9, Best Western ...|\n",
      "+--------------------+--------------------+--------------------+--------------------+--------------------+\n",
      "\n"
     ]
    }
   ],
   "source": [
    "paths = g.bfs(\" id = 2 \",\" id >7 \", edgeFilter=\"relationship >1.5 \", maxPathLength=2)\n",
    "paths.show()"
   ]
  },
  {
   "cell_type": "code",
   "execution_count": 10,
   "metadata": {},
   "outputs": [
    {
     "name": "stdout",
     "output_type": "stream",
     "text": [
      "+--------------------+--------------------+--------------------+--------------------+--------------------+\n",
      "|                from|                  e0|                  v1|                  e1|                  to|\n",
      "+--------------------+--------------------+--------------------+--------------------+--------------------+\n",
      "|[1, Albergue Pira...|[1, 3, 1.74653764...|[3, Imperial Suít...|[3, 8, 2.12604012...|[8, Atlante Plaza...|\n",
      "|[1, Albergue Pira...|[1, 3, 1.74653764...|[3, Imperial Suít...|[3, 9, 2.73063860...|[9, Best Western ...|\n",
      "|[1, Albergue Pira...|[1, 3, 1.74653764...|[3, Imperial Suít...|[3, 10, 2.2898373...|[10, Boa Viagem P...|\n",
      "|[1, Albergue Pira...|[1, 2, 0.62547491...|[2, Boa Viagem Ho...|[2, 7, 1.63793042...|[7, Park Way Home...|\n",
      "+--------------------+--------------------+--------------------+--------------------+--------------------+\n",
      "\n"
     ]
    }
   ],
   "source": [
    "paths = g.bfs(\" id = 1 \",\" id >6 \", edgeFilter=\"relationship < 3 \", maxPathLength=3)\n",
    "paths.show()"
   ]
  },
  {
   "cell_type": "code",
   "execution_count": 11,
   "metadata": {},
   "outputs": [
    {
     "name": "stdout",
     "output_type": "stream",
     "text": [
      "+--------------------+--------------------+--------------------+\n",
      "|                   a|                   e|                   b|\n",
      "+--------------------+--------------------+--------------------+\n",
      "|[1, Albergue Pira...|[1, 2, 0.62547491...|[2, Boa Viagem Ho...|\n",
      "|[1, Albergue Pira...|[1, 3, 1.74653764...|[3, Imperial Suít...|\n",
      "|[1, Albergue Pira...|[1, 4, 4.75687486...|[4, MercureAptMet...|\n",
      "|[2, Boa Viagem Ho...|[2, 6, 3.52773156...|[6, TulipInn Reci...|\n",
      "|[2, Boa Viagem Ho...|[2, 7, 1.63793042...|[7, Park Way Home...|\n",
      "|[2, Boa Viagem Ho...|[2, 4, 5.06459687...|[4, MercureAptMet...|\n",
      "|[3, Imperial Suít...|[3, 8, 2.12604012...|[8, Atlante Plaza...|\n",
      "|[3, Imperial Suít...|[3, 9, 2.73063860...|[9, Best Western ...|\n",
      "|[3, Imperial Suít...|[3, 10, 2.2898373...|[10, Boa Viagem P...|\n",
      "|[4, MercureAptMet...|[4, 5, 5.96958097...|[5, MercureApt Na...|\n",
      "|[4, MercureAptMet...|[4, 6, 8.46913692...|[6, TulipInn Reci...|\n",
      "|[4, MercureAptMet...|[4, 7, 6.55694981...|[7, Park Way Home...|\n",
      "|[5, MercureApt Na...|[5, 8, 2.15694627...|[8, Atlante Plaza...|\n",
      "|[5, MercureApt Na...|[5, 9, 2.42324653...|[9, Best Western ...|\n",
      "|[5, MercureApt Na...|[5, 10, 2.3225585...|[10, Boa Viagem P...|\n",
      "|[6, TulipInn Reci...|[6, 3, 2.55968047...|[3, Imperial Suít...|\n",
      "|[6, TulipInn Reci...|[6, 5, 2.66951115...|[5, MercureApt Na...|\n",
      "|[6, TulipInn Reci...|[6, 7, 1.92053952...|[7, Park Way Home...|\n",
      "|[7, Park Way Home...|[7, 1, 2.20400166...|[1, Albergue Pira...|\n",
      "|[7, Park Way Home...|[7, 8, 1.46969546...|[8, Atlante Plaza...|\n",
      "+--------------------+--------------------+--------------------+\n",
      "only showing top 20 rows\n",
      "\n"
     ]
    }
   ],
   "source": [
    "motifs = g.find(\"(a)-[e]->(b)\")\n",
    "motifs.show()"
   ]
  },
  {
   "cell_type": "code",
   "execution_count": 12,
   "metadata": {},
   "outputs": [
    {
     "name": "stdout",
     "output_type": "stream",
     "text": [
      "+--------------------+--------------------+--------------------+--------------------+--------------------+\n",
      "|                   a|                   e|                   b|                  e2|                   c|\n",
      "+--------------------+--------------------+--------------------+--------------------+--------------------+\n",
      "|[1, Albergue Pira...|[1, 2, 0.62547491...|[2, Boa Viagem Ho...|[2, 4, 5.06459687...|[4, MercureAptMet...|\n",
      "|[1, Albergue Pira...|[1, 2, 0.62547491...|[2, Boa Viagem Ho...|[2, 7, 1.63793042...|[7, Park Way Home...|\n",
      "|[1, Albergue Pira...|[1, 2, 0.62547491...|[2, Boa Viagem Ho...|[2, 6, 3.52773156...|[6, TulipInn Reci...|\n",
      "|[1, Albergue Pira...|[1, 3, 1.74653764...|[3, Imperial Suít...|[3, 10, 2.2898373...|[10, Boa Viagem P...|\n",
      "|[1, Albergue Pira...|[1, 3, 1.74653764...|[3, Imperial Suít...|[3, 9, 2.73063860...|[9, Best Western ...|\n",
      "|[1, Albergue Pira...|[1, 3, 1.74653764...|[3, Imperial Suít...|[3, 8, 2.12604012...|[8, Atlante Plaza...|\n",
      "|[1, Albergue Pira...|[1, 4, 4.75687486...|[4, MercureAptMet...|[4, 7, 6.55694981...|[7, Park Way Home...|\n",
      "|[1, Albergue Pira...|[1, 4, 4.75687486...|[4, MercureAptMet...|[4, 6, 8.46913692...|[6, TulipInn Reci...|\n",
      "|[1, Albergue Pira...|[1, 4, 4.75687486...|[4, MercureAptMet...|[4, 5, 5.96958097...|[5, MercureApt Na...|\n",
      "|[2, Boa Viagem Ho...|[2, 6, 3.52773156...|[6, TulipInn Reci...|[6, 7, 1.92053952...|[7, Park Way Home...|\n",
      "|[2, Boa Viagem Ho...|[2, 6, 3.52773156...|[6, TulipInn Reci...|[6, 5, 2.66951115...|[5, MercureApt Na...|\n",
      "|[2, Boa Viagem Ho...|[2, 6, 3.52773156...|[6, TulipInn Reci...|[6, 3, 2.55968047...|[3, Imperial Suít...|\n",
      "|[2, Boa Viagem Ho...|[2, 7, 1.63793042...|[7, Park Way Home...|[7, 9, 3.23972288...|[9, Best Western ...|\n",
      "|[2, Boa Viagem Ho...|[2, 7, 1.63793042...|[7, Park Way Home...|[7, 8, 1.46969546...|[8, Atlante Plaza...|\n",
      "|[2, Boa Viagem Ho...|[2, 7, 1.63793042...|[7, Park Way Home...|[7, 1, 2.20400166...|[1, Albergue Pira...|\n",
      "|[2, Boa Viagem Ho...|[2, 4, 5.06459687...|[4, MercureAptMet...|[4, 7, 6.55694981...|[7, Park Way Home...|\n",
      "|[2, Boa Viagem Ho...|[2, 4, 5.06459687...|[4, MercureAptMet...|[4, 6, 8.46913692...|[6, TulipInn Reci...|\n",
      "|[2, Boa Viagem Ho...|[2, 4, 5.06459687...|[4, MercureAptMet...|[4, 5, 5.96958097...|[5, MercureApt Na...|\n",
      "|[3, Imperial Suít...|[3, 8, 2.12604012...|[8, Atlante Plaza...|[8, 4, 8.02371228...|[4, MercureAptMet...|\n",
      "|[3, Imperial Suít...|[3, 8, 2.12604012...|[8, Atlante Plaza...|[8, 2, 3.03298626...|[2, Boa Viagem Ho...|\n",
      "+--------------------+--------------------+--------------------+--------------------+--------------------+\n",
      "only showing top 20 rows\n",
      "\n"
     ]
    }
   ],
   "source": [
    "motifs = g.find(\"(a)-[e]->(b);(b)-[e2]->(c)\")\n",
    "motifs.show()"
   ]
  },
  {
   "cell_type": "code",
   "execution_count": 13,
   "metadata": {},
   "outputs": [
    {
     "name": "stdout",
     "output_type": "stream",
     "text": [
      "+---+--------------------+---------+----------+\n",
      "| id|                nome| latitude| longitude|\n",
      "+---+--------------------+---------+----------+\n",
      "|  1|Albergue Piratas ...|-8.107019|-34.889533|\n",
      "|  2|   Boa Viagem Hostel|-8.110046|-34.894322|\n",
      "|  3|Imperial Suítes Flat|-8.117141|-34.901665|\n",
      "|  4|MercureAptMetrópolis|-8.064499|-34.894286|\n",
      "+---+--------------------+---------+----------+\n",
      "\n",
      "+---+---+------------------+\n",
      "|src|dst|      relationship|\n",
      "+---+---+------------------+\n",
      "|  1|  2|0.6254749117398578|\n",
      "|  1|  3|1.7465376484835686|\n",
      "|  1|  4|4.7568748661268145|\n",
      "|  2|  4| 5.064596874547301|\n",
      "+---+---+------------------+\n",
      "\n"
     ]
    }
   ],
   "source": [
    "g2 = g.filterVertices(\"id<5\")\n",
    "g2.vertices.show()\n",
    "g2.edges.show()"
   ]
  },
  {
   "cell_type": "code",
   "execution_count": 14,
   "metadata": {},
   "outputs": [
    {
     "name": "stdout",
     "output_type": "stream",
     "text": [
      "+---+--------------------+---------+----------+\n",
      "| id|                nome| latitude| longitude|\n",
      "+---+--------------------+---------+----------+\n",
      "|  4|MercureAptMetrópolis|-8.064499|-34.894286|\n",
      "|  5|MercureApt Navega...|-8.118182|-34.894833|\n",
      "|  6|TulipInn Recife Flat|-8.139897|-34.905175|\n",
      "|  7|Park Way Home Ser...|-8.123057|-34.901298|\n",
      "|  8|       Atlante Plaza|-8.136259| -34.90194|\n",
      "|  9|Best Western Mani...|-8.098362|-34.885681|\n",
      "| 10|Boa Viagem Praia ...|-8.137725| -34.90228|\n",
      "+---+--------------------+---------+----------+\n",
      "\n",
      "+---+---+------------------+\n",
      "|src|dst|      relationship|\n",
      "+---+---+------------------+\n",
      "|  4|  5| 5.969580979785641|\n",
      "|  4|  6| 8.469136928157475|\n",
      "|  4|  7| 6.556949812805451|\n",
      "|  5|  8| 2.156946277340633|\n",
      "|  5|  9|2.4232465350552195|\n",
      "|  5| 10| 2.322558549974316|\n",
      "|  6|  5| 2.669511153829627|\n",
      "|  6|  7|1.9205395279301125|\n",
      "|  7|  8|1.4696954686115875|\n",
      "|  7|  9|3.2397228824032913|\n",
      "|  8|  4| 8.023712282556527|\n",
      "|  9|  4| 3.882734236221232|\n",
      "| 10|  4| 8.189777770249627|\n",
      "+---+---+------------------+\n",
      "\n"
     ]
    }
   ],
   "source": [
    "g2 = g.filterVertices(\"id > 3\")\n",
    "g2.vertices.show()\n",
    "g2.edges.show()"
   ]
  },
  {
   "cell_type": "code",
   "execution_count": 15,
   "metadata": {},
   "outputs": [
    {
     "name": "stdout",
     "output_type": "stream",
     "text": [
      "+--------------------+--------------------+--------------------+\n",
      "|                from|                  e0|                  to|\n",
      "+--------------------+--------------------+--------------------+\n",
      "|[1, Albergue Pira...|[1, 2, 0.62547491...|[2, Boa Viagem Ho...|\n",
      "|[1, Albergue Pira...|[1, 3, 1.74653764...|[3, Imperial Suít...|\n",
      "|[1, Albergue Pira...|[1, 4, 4.75687486...|[4, MercureAptMet...|\n",
      "+--------------------+--------------------+--------------------+\n",
      "\n"
     ]
    }
   ],
   "source": [
    "paths = g.bfs(\" id = 1 \",\" id > 1 \")\n",
    "paths.show()"
   ]
  },
  {
   "cell_type": "code",
   "execution_count": 16,
   "metadata": {},
   "outputs": [
    {
     "name": "stdout",
     "output_type": "stream",
     "text": [
      "+--------------------+--------------------+--------------------+\n",
      "|                from|                  e0|                  to|\n",
      "+--------------------+--------------------+--------------------+\n",
      "|[1, Albergue Pira...|[1, 2, 0.62547491...|[2, Boa Viagem Ho...|\n",
      "|[1, Albergue Pira...|[1, 3, 1.74653764...|[3, Imperial Suít...|\n",
      "|[1, Albergue Pira...|[1, 4, 4.75687486...|[4, MercureAptMet...|\n",
      "+--------------------+--------------------+--------------------+\n",
      "\n",
      "+--------------------+--------------------+--------------------+\n",
      "|                from|                  e0|                  to|\n",
      "+--------------------+--------------------+--------------------+\n",
      "|[2, Boa Viagem Ho...|[2, 6, 3.52773156...|[6, TulipInn Reci...|\n",
      "|[2, Boa Viagem Ho...|[2, 7, 1.63793042...|[7, Park Way Home...|\n",
      "|[2, Boa Viagem Ho...|[2, 4, 5.06459687...|[4, MercureAptMet...|\n",
      "+--------------------+--------------------+--------------------+\n",
      "\n",
      "+--------------------+--------------------+--------------------+\n",
      "|                from|                  e0|                  to|\n",
      "+--------------------+--------------------+--------------------+\n",
      "|[3, Imperial Suít...|[3, 8, 2.12604012...|[8, Atlante Plaza...|\n",
      "|[3, Imperial Suít...|[3, 9, 2.73063860...|[9, Best Western ...|\n",
      "|[3, Imperial Suít...|[3, 10, 2.2898373...|[10, Boa Viagem P...|\n",
      "+--------------------+--------------------+--------------------+\n",
      "\n",
      "+--------------------+--------------------+--------------------+\n",
      "|                from|                  e0|                  to|\n",
      "+--------------------+--------------------+--------------------+\n",
      "|[4, MercureAptMet...|[4, 5, 5.96958097...|[5, MercureApt Na...|\n",
      "|[4, MercureAptMet...|[4, 6, 8.46913692...|[6, TulipInn Reci...|\n",
      "|[4, MercureAptMet...|[4, 7, 6.55694981...|[7, Park Way Home...|\n",
      "+--------------------+--------------------+--------------------+\n",
      "\n",
      "+--------------------+--------------------+--------------------+\n",
      "|                from|                  e0|                  to|\n",
      "+--------------------+--------------------+--------------------+\n",
      "|[5, MercureApt Na...|[5, 8, 2.15694627...|[8, Atlante Plaza...|\n",
      "|[5, MercureApt Na...|[5, 9, 2.42324653...|[9, Best Western ...|\n",
      "|[5, MercureApt Na...|[5, 10, 2.3225585...|[10, Boa Viagem P...|\n",
      "+--------------------+--------------------+--------------------+\n",
      "\n",
      "+--------------------+--------------------+--------------------+\n",
      "|                from|                  e0|                  to|\n",
      "+--------------------+--------------------+--------------------+\n",
      "|[6, TulipInn Reci...|[6, 7, 1.92053952...|[7, Park Way Home...|\n",
      "+--------------------+--------------------+--------------------+\n",
      "\n",
      "+--------------------+--------------------+--------------------+\n",
      "|                from|                  e0|                  to|\n",
      "+--------------------+--------------------+--------------------+\n",
      "|[7, Park Way Home...|[7, 8, 1.46969546...|[8, Atlante Plaza...|\n",
      "|[7, Park Way Home...|[7, 9, 3.23972288...|[9, Best Western ...|\n",
      "+--------------------+--------------------+--------------------+\n",
      "\n",
      "+--------------------+--------------------+--------------------+--------------------+--------------------+--------------------+--------------------+\n",
      "|                from|                  e0|                  v1|                  e1|                  v2|                  e2|                  to|\n",
      "+--------------------+--------------------+--------------------+--------------------+--------------------+--------------------+--------------------+\n",
      "|[8, Atlante Plaza...|[8, 4, 8.02371228...|[4, MercureAptMet...|[4, 7, 6.55694981...|[7, Park Way Home...|[7, 9, 3.23972288...|[9, Best Western ...|\n",
      "|[8, Atlante Plaza...|[8, 2, 3.03298626...|[2, Boa Viagem Ho...|[2, 7, 1.63793042...|[7, Park Way Home...|[7, 9, 3.23972288...|[9, Best Western ...|\n",
      "|[8, Atlante Plaza...|[8, 1, 3.52654308...|[1, Albergue Pira...|[1, 3, 1.74653764...|[3, Imperial Suít...|[3, 9, 2.73063860...|[9, Best Western ...|\n",
      "|[8, Atlante Plaza...|[8, 1, 3.52654308...|[1, Albergue Pira...|[1, 3, 1.74653764...|[3, Imperial Suít...|[3, 10, 2.2898373...|[10, Boa Viagem P...|\n",
      "|[8, Atlante Plaza...|[8, 4, 8.02371228...|[4, MercureAptMet...|[4, 5, 5.96958097...|[5, MercureApt Na...|[5, 9, 2.42324653...|[9, Best Western ...|\n",
      "|[8, Atlante Plaza...|[8, 4, 8.02371228...|[4, MercureAptMet...|[4, 5, 5.96958097...|[5, MercureApt Na...|[5, 10, 2.3225585...|[10, Boa Viagem P...|\n",
      "+--------------------+--------------------+--------------------+--------------------+--------------------+--------------------+--------------------+\n",
      "\n",
      "+--------------------+--------------------+--------------------+--------------------+--------------------+--------------------+--------------------+\n",
      "|                from|                  e0|                  v1|                  e1|                  v2|                  e2|                  to|\n",
      "+--------------------+--------------------+--------------------+--------------------+--------------------+--------------------+--------------------+\n",
      "|[9, Best Western ...|[9, 1, 1.05187567...|[1, Albergue Pira...|[1, 3, 1.74653764...|[3, Imperial Suít...|[3, 10, 2.2898373...|[10, Boa Viagem P...|\n",
      "|[9, Best Western ...|[9, 4, 3.88273423...|[4, MercureAptMet...|[4, 5, 5.96958097...|[5, MercureApt Na...|[5, 10, 2.3225585...|[10, Boa Viagem P...|\n",
      "+--------------------+--------------------+--------------------+--------------------+--------------------+--------------------+--------------------+\n",
      "\n",
      "+---+----+--------+---------+\n",
      "| id|nome|latitude|longitude|\n",
      "+---+----+--------+---------+\n",
      "+---+----+--------+---------+\n",
      "\n"
     ]
    }
   ],
   "source": [
    "def percorrer_grafo(grafo):\n",
    "    vert = grafo.vertices.collect()\n",
    "    #print(vert)\n",
    "    for i in vert:\n",
    "        paths = grafo.bfs(\" id = \"+str(i.id),\" id >\" +str(i.id))\n",
    "        paths.show()\n",
    "percorrer_grafo(g)"
   ]
  },
  {
   "cell_type": "markdown",
   "metadata": {},
   "source": [
    "### Atividade 2"
   ]
  },
  {
   "cell_type": "code",
   "execution_count": 17,
   "metadata": {},
   "outputs": [
    {
     "name": "stdout",
     "output_type": "stream",
     "text": [
      "+---+--------+\n",
      "| id|inDegree|\n",
      "+---+--------+\n",
      "|  7|       3|\n",
      "|  3|       2|\n",
      "|  8|       3|\n",
      "|  5|       2|\n",
      "|  6|       2|\n",
      "|  9|       3|\n",
      "|  1|       4|\n",
      "| 10|       2|\n",
      "|  4|       5|\n",
      "|  2|       4|\n",
      "+---+--------+\n",
      "\n"
     ]
    }
   ],
   "source": [
    "g.inDegrees.show()"
   ]
  },
  {
   "cell_type": "code",
   "execution_count": 18,
   "metadata": {},
   "outputs": [
    {
     "name": "stdout",
     "output_type": "stream",
     "text": [
      "[Row(id='4', nome='MercureAptMetrópolis', latitude='-8.064499', longitude='-34.894286')]\n"
     ]
    }
   ],
   "source": [
    "def get_central_vertex(g):\n",
    "    degrees = g.inDegrees.collect()\n",
    "    m=degrees[0]\n",
    "    for i in degrees:\n",
    "        if i[\"inDegree\"]>m[\"inDegree\"]:\n",
    "            m=i\n",
    "    return g.filterVertices(\"id == {}\".format(m[\"id\"])).vertices.collect()\n",
    "print(get_central_vertex(g))"
   ]
  },
  {
   "cell_type": "code",
   "execution_count": null,
   "metadata": {},
   "outputs": [],
   "source": []
  }
 ],
 "metadata": {
  "kernelspec": {
   "display_name": "Python 3",
   "language": "python",
   "name": "python3"
  },
  "language_info": {
   "codemirror_mode": {
    "name": "ipython",
    "version": 3
   },
   "file_extension": ".py",
   "mimetype": "text/x-python",
   "name": "python",
   "nbconvert_exporter": "python",
   "pygments_lexer": "ipython3",
   "version": "3.7.6"
  }
 },
 "nbformat": 4,
 "nbformat_minor": 4
}
